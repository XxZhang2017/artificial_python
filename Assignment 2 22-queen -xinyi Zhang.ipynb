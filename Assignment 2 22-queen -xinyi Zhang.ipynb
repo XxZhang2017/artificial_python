{
 "cells": [
  {
   "cell_type": "markdown",
   "metadata": {},
   "source": [
    "## Assignment 2, 22-Queen Programming"
   ]
  },
  {
   "cell_type": "markdown",
   "metadata": {},
   "source": [
    "Your homework must be implemented in this Notebook file. \n",
    "You can add as many cells as you want. However, you are not allowed to touch the code below the line \"=============\".\n"
   ]
  },
  {
   "cell_type": "code",
   "execution_count": 6,
   "metadata": {
    "collapsed": true
   },
   "outputs": [],
   "source": [
    "n=7"
   ]
  },
  {
   "cell_type": "code",
   "execution_count": 7,
   "metadata": {
    "collapsed": true
   },
   "outputs": [],
   "source": [
    "import copy\n",
    "count=0\n",
    "result=[]\n",
    "class n_queen:\n",
    "    def __init__(self,n):\n",
    "        if n<4:\n",
    "            print(\"no solution for n<4 for n_queen problem\")\n",
    "        else:\n",
    "            self.size=n #can change and init to greater than 4 queen problem;\n",
    "            \n",
    "            self.board=[]\n",
    "            for i in range(self.size):\n",
    "                row=[]\n",
    "                for j in range(self.size):\n",
    "                    row.append(-1)\n",
    "                self.board.append(row)\n",
    "            self.keep=[]\n",
    "            self.solution=[]\n",
    "                \n",
    "    def __str__(self):\n",
    "        res = ''\n",
    "        for row in range(self.size):\n",
    "            res += ' '.join(map(str, self.board[row]))\n",
    "            res += '\\r\\n'\n",
    "        return res    \n",
    "        \n",
    "    def backTrack(self,theRow):\n",
    "        global count\n",
    "        global result\n",
    "        if count==4:\n",
    "            return True\n",
    "        if theRow==self.size:\n",
    "            count=count+1\n",
    "#            print(self.toSolution())\n",
    "            result.append(self.toSolution())\n",
    "#            self.solution.append(self.toSolution())\n",
    "#            print(self.solution)\n",
    "#            self.solution.clear()\n",
    "            return True\n",
    "        for col in range(self.size):\n",
    "            if(self.check_safe(theRow,col)==-1):\n",
    "#                print(self.board)\n",
    "                self.solution.append((theRow,col))\n",
    "    \n",
    "                copyBoard=copy.deepcopy(self.board)\n",
    "                self.keep.append(copyBoard)\n",
    "                self.remove(theRow,col)\n",
    "                self.board[theRow][col]=1       \n",
    "                self.backTrack(theRow+1)\n",
    "               \n",
    "\n",
    "                self.board=self.keep.pop()\n",
    "#                print(\"pop\",self.board)\n",
    "        return False\n",
    "                \n",
    "    \n",
    "    def check_safe(self,row,col):\n",
    "        return self.board[row][col];\n",
    "\n",
    "#if debugging, you need to add self.board[row][col]=1\n",
    "    def remove(self,row,col):\n",
    "        for i in range(self.size):\n",
    "            self.board[row][i]=0\n",
    "        for i in range(self.size):\n",
    "            self.board[i][col]=0\n",
    "        Row=row\n",
    "        Col=col\n",
    "        while Row>=0 and Col>=0:\n",
    "            self.board[Row][Col]=0\n",
    "            Row=Row-1\n",
    "            Col=Col-1\n",
    "        Row=row\n",
    "        Col=col\n",
    "        while Row<=self.size-1 and Col<=self.size-1:\n",
    "            self.board[Row][Col]=0\n",
    "            Row=Row+1\n",
    "            Col=Col+1\n",
    "        Row=row\n",
    "        Col=col\n",
    "        while Row>=0 and Col<=self.size-1:\n",
    "            self.board[Row][Col]=0\n",
    "            Row=Row-1\n",
    "            Col=Col+1\n",
    "        Row=row\n",
    "        Col=col\n",
    "        while Row<=self.size-1 and Col>=0:\n",
    "            self.board[Row][Col]=0\n",
    "            Row=Row+1\n",
    "            Col=Col-1\n",
    "    \n",
    "            \n",
    "\n",
    "    def printSolution(self):\n",
    "        for item in self.solution:\n",
    "            print(item)\n",
    "    \n",
    "    def toSolution(self):\n",
    "        position=[]\n",
    "        for row in range(self.size):\n",
    "            for col in range(self.size):\n",
    "                if(self.board[row][col]==1):\n",
    "                    position.append((row,col))\n",
    "#        position.append(\"End\")\n",
    "        return position\n",
    "def print_result(reg):\n",
    "    for item in reg:\n",
    "        print(item)\n",
    "        \n",
    "        \n",
    "\n",
    "#go to the count element in the solution , get the tuple;"
   ]
  },
  {
   "cell_type": "code",
   "execution_count": 8,
   "metadata": {},
   "outputs": [
    {
     "data": {
      "text/plain": [
       "False"
      ]
     },
     "execution_count": 8,
     "metadata": {},
     "output_type": "execute_result"
    }
   ],
   "source": [
    "queen=n_queen(n)\n",
    "queen.backTrack(0)\n"
   ]
  },
  {
   "cell_type": "code",
   "execution_count": null,
   "metadata": {
    "collapsed": true
   },
   "outputs": [],
   "source": []
  },
  {
   "cell_type": "code",
   "execution_count": null,
   "metadata": {
    "collapsed": true
   },
   "outputs": [],
   "source": []
  },
  {
   "cell_type": "code",
   "execution_count": null,
   "metadata": {
    "collapsed": true
   },
   "outputs": [],
   "source": []
  },
  {
   "cell_type": "markdown",
   "metadata": {},
   "source": [
    "You can insert as many cells as you want above\n",
    "You are not Allowed to modify the code below this line.\n",
    "==============================="
   ]
  },
  {
   "cell_type": "code",
   "execution_count": 9,
   "metadata": {},
   "outputs": [
    {
     "name": "stdout",
     "output_type": "stream",
     "text": [
      "[(0, 0), (1, 2), (2, 4), (3, 6), (4, 1), (5, 3), (6, 5)]\n",
      "[(0, 0), (1, 3), (2, 6), (3, 2), (4, 5), (5, 1), (6, 4)]\n",
      "[(0, 0), (1, 4), (2, 1), (3, 5), (4, 2), (5, 6), (6, 3)]\n",
      "[(0, 0), (1, 5), (2, 3), (3, 1), (4, 6), (5, 4), (6, 2)]\n"
     ]
    }
   ],
   "source": [
    "#you need to implement print_result function to print out the result according to the required format\n",
    "print_result(result)"
   ]
  },
  {
   "cell_type": "markdown",
   "metadata": {},
   "source": [
    "\n",
    "The output format should be as follows. You only need to give 4 solutions in the following format.\n",
    "Example Output for 4-queens Problem. Each pair of values represents the position of a queen (row, column)\n",
    "(0,1) (1,3) (2,0) (3,2)\n",
    "(0,2) (1,0) (2,3) (3,1)\n",
    "\n",
    "\n"
   ]
  }
 ],
 "metadata": {
  "anaconda-cloud": {},
  "kernelspec": {
   "display_name": "Python 3",
   "language": "python",
   "name": "python3"
  },
  "language_info": {
   "codemirror_mode": {
    "name": "ipython",
    "version": 3
   },
   "file_extension": ".py",
   "mimetype": "text/x-python",
   "name": "python",
   "nbconvert_exporter": "python",
   "pygments_lexer": "ipython3",
   "version": "3.6.3"
  }
 },
 "nbformat": 4,
 "nbformat_minor": 1
}
